{
 "cells": [
  {
   "cell_type": "code",
   "execution_count": 2,
   "metadata": {},
   "outputs": [],
   "source": [
    "import numpy as np\n",
    "import pandas as pd\n",
    "from nltk.tokenize import word_tokenize\n",
    "from nltk.stem import WordNetLemmatizer\n",
    "from nltk.corpus import stopwords\n",
    "import re\n",
    "from keras.preprocessing.text import Tokenizer\n",
    "from keras.preprocessing.sequence import pad_sequences\n",
    "from sklearn.model_selection import train_test_split\n",
    "from keras.models import Sequential\n",
    "from keras.layers import Dense, SimpleRNN, LSTM, Embedding, Dropout\n",
    "from keras.callbacks import EarlyStopping\n",
    "from tensorflow.keras.optimizers import Adam,SGD, RMSprop\n",
    "from sklearn.metrics import accuracy_score\n",
    "import matplotlib.pyplot as plt"
   ]
  },
  {
   "cell_type": "code",
   "execution_count": 3,
   "metadata": {},
   "outputs": [],
   "source": [
    "data, test = pd.read_csv(\"train.csv\"), pd.read_csv(\"test.csv\")"
   ]
  },
  {
   "cell_type": "code",
   "execution_count": 4,
   "metadata": {},
   "outputs": [
    {
     "data": {
      "text/html": [
       "<div>\n",
       "<style scoped>\n",
       "    .dataframe tbody tr th:only-of-type {\n",
       "        vertical-align: middle;\n",
       "    }\n",
       "\n",
       "    .dataframe tbody tr th {\n",
       "        vertical-align: top;\n",
       "    }\n",
       "\n",
       "    .dataframe thead th {\n",
       "        text-align: right;\n",
       "    }\n",
       "</style>\n",
       "<table border=\"1\" class=\"dataframe\">\n",
       "  <thead>\n",
       "    <tr style=\"text-align: right;\">\n",
       "      <th></th>\n",
       "      <th>id</th>\n",
       "      <th>keyword</th>\n",
       "      <th>location</th>\n",
       "      <th>text</th>\n",
       "      <th>target</th>\n",
       "    </tr>\n",
       "  </thead>\n",
       "  <tbody>\n",
       "    <tr>\n",
       "      <th>0</th>\n",
       "      <td>1</td>\n",
       "      <td>NaN</td>\n",
       "      <td>NaN</td>\n",
       "      <td>Our Deeds are the Reason of this #earthquake M...</td>\n",
       "      <td>1</td>\n",
       "    </tr>\n",
       "    <tr>\n",
       "      <th>1</th>\n",
       "      <td>4</td>\n",
       "      <td>NaN</td>\n",
       "      <td>NaN</td>\n",
       "      <td>Forest fire near La Ronge Sask. Canada</td>\n",
       "      <td>1</td>\n",
       "    </tr>\n",
       "    <tr>\n",
       "      <th>2</th>\n",
       "      <td>5</td>\n",
       "      <td>NaN</td>\n",
       "      <td>NaN</td>\n",
       "      <td>All residents asked to 'shelter in place' are ...</td>\n",
       "      <td>1</td>\n",
       "    </tr>\n",
       "    <tr>\n",
       "      <th>3</th>\n",
       "      <td>6</td>\n",
       "      <td>NaN</td>\n",
       "      <td>NaN</td>\n",
       "      <td>13,000 people receive #wildfires evacuation or...</td>\n",
       "      <td>1</td>\n",
       "    </tr>\n",
       "    <tr>\n",
       "      <th>4</th>\n",
       "      <td>7</td>\n",
       "      <td>NaN</td>\n",
       "      <td>NaN</td>\n",
       "      <td>Just got sent this photo from Ruby #Alaska as ...</td>\n",
       "      <td>1</td>\n",
       "    </tr>\n",
       "  </tbody>\n",
       "</table>\n",
       "</div>"
      ],
      "text/plain": [
       "   id keyword location                                               text  \\\n",
       "0   1     NaN      NaN  Our Deeds are the Reason of this #earthquake M...   \n",
       "1   4     NaN      NaN             Forest fire near La Ronge Sask. Canada   \n",
       "2   5     NaN      NaN  All residents asked to 'shelter in place' are ...   \n",
       "3   6     NaN      NaN  13,000 people receive #wildfires evacuation or...   \n",
       "4   7     NaN      NaN  Just got sent this photo from Ruby #Alaska as ...   \n",
       "\n",
       "   target  \n",
       "0       1  \n",
       "1       1  \n",
       "2       1  \n",
       "3       1  \n",
       "4       1  "
      ]
     },
     "execution_count": 4,
     "metadata": {},
     "output_type": "execute_result"
    }
   ],
   "source": [
    "data.head()"
   ]
  },
  {
   "cell_type": "code",
   "execution_count": 5,
   "metadata": {},
   "outputs": [],
   "source": [
    "x,y,submission = data[\"text\"],data[\"target\"], test[\"text\"]"
   ]
  },
  {
   "cell_type": "code",
   "execution_count": 6,
   "metadata": {},
   "outputs": [],
   "source": [
    "def delete_url(regex,data):\n",
    "    data_no_url = data.apply(lambda x: re.sub(regex,\" \",x))\n",
    "    return data_no_url\n",
    "\n",
    "x_no_url, submission_no_url = delete_url(r\"https?://\\S+|www\\.\\S+\",x), delete_url(r\"https?://\\S+|www\\.\\S+\",submission)"
   ]
  },
  {
   "cell_type": "code",
   "execution_count": 7,
   "metadata": {},
   "outputs": [],
   "source": [
    "def tokenize(data):\n",
    "    tokenized = [word_tokenize(i) for i in data.values]\n",
    "    return tokenized\n",
    "\n",
    "x_tokenized, submission_tokenized = tokenize(x_no_url), tokenize(submission_no_url)"
   ]
  },
  {
   "cell_type": "code",
   "execution_count": 8,
   "metadata": {},
   "outputs": [],
   "source": [
    "def alphabetic(data):\n",
    "    alphabetic = [[i for i in j if i.isalpha()] for j in data]\n",
    "    return alphabetic\n",
    "\n",
    "x_alpha, submission_alpha = alphabetic(x_tokenized), alphabetic(submission_tokenized)"
   ]
  },
  {
   "cell_type": "code",
   "execution_count": 9,
   "metadata": {},
   "outputs": [],
   "source": [
    "def delete_stopwords(data):\n",
    "    no_stopw = [[i for i in j if i not in stopwords.words('english')] if len(j)>1 else j for j in data]\n",
    "    return no_stopw\n",
    "\n",
    "x_nostopw, submission_nostopw = delete_stopwords(x_alpha),delete_stopwords(submission_alpha)"
   ]
  },
  {
   "cell_type": "code",
   "execution_count": 10,
   "metadata": {},
   "outputs": [],
   "source": [
    "def lemmatize(data):\n",
    "    wnl = WordNetLemmatizer()\n",
    "    lemma = [[wnl.lemmatize(i) for i in j] for j in data]\n",
    "    return lemma\n",
    "\n",
    "x_lemma, submission_lemma = lematize(x_nostopw),lematize(submission_nostopw)"
   ]
  },
  {
   "cell_type": "code",
   "execution_count": 11,
   "metadata": {},
   "outputs": [],
   "source": [
    "def transform_to_final(data):\n",
    "    lower = [[i.lower() for i in j] for j in data]\n",
    "    final = [\" \".join(i) for i in lower]\n",
    "    return final\n",
    "\n",
    "x_final, submission_final = transform_to_final(x_lemma), transform_to_final(submission_lemma)"
   ]
  },
  {
   "cell_type": "code",
   "execution_count": 13,
   "metadata": {},
   "outputs": [
    {
     "data": {
      "text/plain": [
       "['our deeds reason earthquake may allah forgive u',\n",
       " 'forest fire near la ronge sask canada',\n",
       " 'all resident asked place notified officer no evacuation shelter place order expected',\n",
       " 'people receive wildfire evacuation order california',\n",
       " 'just got sent photo ruby alaska smoke wildfire pours school',\n",
       " 'rockyfire update california hwy closed direction due lake county fire cafire wildfire',\n",
       " 'flood disaster heavy rain cause flash flooding street manitou colorado springs area',\n",
       " 'i top hill i see fire wood',\n",
       " 'there emergency evacuation happening building across street',\n",
       " 'i afraid tornado coming area']"
      ]
     },
     "execution_count": 13,
     "metadata": {},
     "output_type": "execute_result"
    }
   ],
   "source": [
    "x_final[:10]"
   ]
  },
  {
   "cell_type": "code",
   "execution_count": 13,
   "metadata": {},
   "outputs": [],
   "source": [
    "x_count = \" \".join(x_final)\n",
    "x_count = x_count.split()"
   ]
  },
  {
   "cell_type": "code",
   "execution_count": 14,
   "metadata": {},
   "outputs": [],
   "source": [
    "unique_w = len(set(x_count))"
   ]
  },
  {
   "cell_type": "code",
   "execution_count": 15,
   "metadata": {},
   "outputs": [],
   "source": [
    "longest_sent = np.max([len(i) for i in x_lower])"
   ]
  },
  {
   "cell_type": "code",
   "execution_count": 75,
   "metadata": {},
   "outputs": [],
   "source": [
    "tokenizer = Tokenizer(num_words=unique_w)\n",
    "tokenizer.fit_on_texts(x_final)\n",
    "sequences, subm_sequences = tokenizer.texts_to_sequences(x_final),tokenizer.texts_to_sequences(submission_final)\n",
    "seq_padded,subm_seq_padded = pad_sequences(sequences, maxlen=longest_sent, padding='post'),pad_sequences(subm_sequences, maxlen=longest_sent, padding='post')"
   ]
  },
  {
   "cell_type": "code",
   "execution_count": 17,
   "metadata": {},
   "outputs": [
    {
     "data": {
      "text/plain": [
       "array([[ 602, 4006,  555, ...,    0,    0,    0],\n",
       "       [ 119,    5,  172, ...,    0,    0,    0],\n",
       "       [ 122, 2176, 1436, ...,    0,    0,    0],\n",
       "       ...,\n",
       "       [1423,  306,  486, ...,    0,    0,    0],\n",
       "       [  20, 1007,  278, ...,    0,    0,    0],\n",
       "       [   2,  147,   94, ...,    0,    0,    0]])"
      ]
     },
     "execution_count": 17,
     "metadata": {},
     "output_type": "execute_result"
    }
   ],
   "source": [
    "seq_padded"
   ]
  },
  {
   "cell_type": "code",
   "execution_count": 43,
   "metadata": {},
   "outputs": [],
   "source": [
    "x_train, x_test, y_train, y_test = train_test_split(seq_padded,y,test_size=0.2)"
   ]
  },
  {
   "cell_type": "code",
   "execution_count": 59,
   "metadata": {},
   "outputs": [
    {
     "name": "stdout",
     "output_type": "stream",
     "text": [
      "Epoch 1/50\n",
      "153/153 [==============================] - 12s 50ms/step - loss: 0.5713 - accuracy: 0.7020 - val_loss: 0.4990 - val_accuracy: 0.7660\n",
      "Epoch 2/50\n",
      "153/153 [==============================] - 7s 44ms/step - loss: 0.3826 - accuracy: 0.8506 - val_loss: 0.4660 - val_accuracy: 0.7997\n",
      "Epoch 3/50\n",
      "153/153 [==============================] - 7s 44ms/step - loss: 0.2944 - accuracy: 0.8894 - val_loss: 0.5528 - val_accuracy: 0.7931\n"
     ]
    }
   ],
   "source": [
    "model_7 = Sequential()\n",
    "model_7.add(Embedding(unique_w+1,100,input_length=len(seq_padded[0])))\n",
    "#model.add(SimpleRNN(32,activation='relu', input_shape=(len(seq_padded[0]), 64)))\n",
    "model_7.add(LSTM(64,return_sequences=True))\n",
    "model_7.add(Dropout(0.5))\n",
    "model_7.add(LSTM(16,return_sequences=True))\n",
    "model_7.add(Dropout(0.5))\n",
    "model_7.add(LSTM(32))\n",
    "model_7.add(Dropout(0.5))\n",
    "model_7.add(Dense(1,activation='sigmoid'))\n",
    "#opt = Adam(learning_rate=0.001)\n",
    "opt = RMSprop()\n",
    "ES = EarlyStopping(patience=1)\n",
    "model_7.compile(optimizer=opt,loss='binary_crossentropy',metrics=['accuracy'])\n",
    "fit_7 = model_7.fit(x_train,y_train,callbacks=ES,epochs=50,validation_split=0.2)"
   ]
  },
  {
   "cell_type": "code",
   "execution_count": 60,
   "metadata": {},
   "outputs": [
    {
     "name": "stderr",
     "output_type": "stream",
     "text": [
      "No handles with labels found to put in legend.\n"
     ]
    },
    {
     "data": {
      "text/plain": [
       "<matplotlib.legend.Legend at 0x2a7c69c6fa0>"
      ]
     },
     "execution_count": 60,
     "metadata": {},
     "output_type": "execute_result"
    },
    {
     "data": {
      "image/png": "[encoded data removed]",
      "text/plain": [
       "<Figure size 432x288 with 1 Axes>"
      ]
     },
     "metadata": {
      "needs_background": "light"
     },
     "output_type": "display_data"
    }
   ],
   "source": [
    "plt.plot(fit_7.history['accuracy'])\n",
    "plt.plot(fit_7.history['val_accuracy'])\n",
    "plt.legend()"
   ]
  },
  {
   "cell_type": "code",
   "execution_count": 61,
   "metadata": {},
   "outputs": [
    {
     "data": {
      "text/plain": [
       "0.8063033486539725"
      ]
     },
     "execution_count": 61,
     "metadata": {},
     "output_type": "execute_result"
    }
   ],
   "source": [
    "y_pr = model_7.predict(x_test)\n",
    "y_cl = [1 if i >= 0.5 else 0 for i in y_pr]\n",
    "accuracy_score(y_test,y_cl)"
   ]
  },
  {
   "cell_type": "code",
   "execution_count": 62,
   "metadata": {},
   "outputs": [
    {
     "name": "stdout",
     "output_type": "stream",
     "text": [
      "Model: \"sequential_13\"\n",
      "_________________________________________________________________\n",
      " Layer (type)                Output Shape              Param #   \n",
      "=================================================================\n",
      " embedding_13 (Embedding)    (None, 27, 100)           1449300   \n",
      "                                                                 \n",
      " lstm_39 (LSTM)              (None, 27, 64)            42240     \n",
      "                                                                 \n",
      " dropout_39 (Dropout)        (None, 27, 64)            0         \n",
      "                                                                 \n",
      " lstm_40 (LSTM)              (None, 27, 16)            5184      \n",
      "                                                                 \n",
      " dropout_40 (Dropout)        (None, 27, 16)            0         \n",
      "                                                                 \n",
      " lstm_41 (LSTM)              (None, 32)                6272      \n",
      "                                                                 \n",
      " dropout_41 (Dropout)        (None, 32)                0         \n",
      "                                                                 \n",
      " dense_13 (Dense)            (None, 1)                 33        \n",
      "                                                                 \n",
      "=================================================================\n",
      "Total params: 1,503,029\n",
      "Trainable params: 1,503,029\n",
      "Non-trainable params: 0\n",
      "_________________________________________________________________\n"
     ]
    }
   ],
   "source": [
    "model_7.summary()"
   ]
  },
  {
   "cell_type": "code",
   "execution_count": 76,
   "metadata": {},
   "outputs": [],
   "source": [
    "subm_pred = model_7.predict(subm_seq_padded)\n",
    "subm_y = [1 if i >= 0.5 else 0 for i in subm_pred]"
   ]
  },
  {
   "cell_type": "code",
   "execution_count": 89,
   "metadata": {},
   "outputs": [],
   "source": [
    "subm_y_series = pd.Series(subm_y)\n",
    "final_submission = pd.concat([test[\"id\"],subm_y_series],axis=1)"
   ]
  },
  {
   "cell_type": "code",
   "execution_count": 92,
   "metadata": {},
   "outputs": [
    {
     "data": {
      "text/html": [
       "<div>\n",
       "<style scoped>\n",
       "    .dataframe tbody tr th:only-of-type {\n",
       "        vertical-align: middle;\n",
       "    }\n",
       "\n",
       "    .dataframe tbody tr th {\n",
       "        vertical-align: top;\n",
       "    }\n",
       "\n",
       "    .dataframe thead th {\n",
       "        text-align: right;\n",
       "    }\n",
       "</style>\n",
       "<table border=\"1\" class=\"dataframe\">\n",
       "  <thead>\n",
       "    <tr style=\"text-align: right;\">\n",
       "      <th></th>\n",
       "      <th>id</th>\n",
       "      <th>0</th>\n",
       "    </tr>\n",
       "  </thead>\n",
       "  <tbody>\n",
       "    <tr>\n",
       "      <th>0</th>\n",
       "      <td>0</td>\n",
       "      <td>1</td>\n",
       "    </tr>\n",
       "    <tr>\n",
       "      <th>1</th>\n",
       "      <td>2</td>\n",
       "      <td>1</td>\n",
       "    </tr>\n",
       "    <tr>\n",
       "      <th>2</th>\n",
       "      <td>3</td>\n",
       "      <td>1</td>\n",
       "    </tr>\n",
       "    <tr>\n",
       "      <th>3</th>\n",
       "      <td>9</td>\n",
       "      <td>1</td>\n",
       "    </tr>\n",
       "    <tr>\n",
       "      <th>4</th>\n",
       "      <td>11</td>\n",
       "      <td>1</td>\n",
       "    </tr>\n",
       "  </tbody>\n",
       "</table>\n",
       "</div>"
      ],
      "text/plain": [
       "   id  0\n",
       "0   0  1\n",
       "1   2  1\n",
       "2   3  1\n",
       "3   9  1\n",
       "4  11  1"
      ]
     },
     "execution_count": 92,
     "metadata": {},
     "output_type": "execute_result"
    }
   ],
   "source": [
    "final_submission.head()"
   ]
  },
  {
   "cell_type": "code",
   "execution_count": 99,
   "metadata": {},
   "outputs": [],
   "source": [
    "final_submission.to_excel(r\"C:\\Users\\ht323xc\\OneDrive - EY\\Desktop\\kaggle.xlsx\")"
   ]
  }
 ],
 "metadata": {
  "kernelspec": {
   "display_name": "Python 3",
   "language": "python",
   "name": "python3"
  },
  "language_info": {
   "codemirror_mode": {
    "name": "ipython",
    "version": 3
   },
   "file_extension": ".py",
   "mimetype": "text/x-python",
   "name": "python",
   "nbconvert_exporter": "python",
   "pygments_lexer": "ipython3",
   "version": "3.8.5"
  }
 },
 "nbformat": 4,
 "nbformat_minor": 5
}
